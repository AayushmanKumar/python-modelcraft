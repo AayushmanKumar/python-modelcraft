{
  "cells": [
    {
      "cell_type": "markdown",
      "metadata": {
        "colab_type": "text",
        "id": "view-in-github"
      },
      "source": [
        "<a href=\"https://colab.research.google.com/github/AayushmanKumar/AayushmanKumar/blob/main/Numpy_Practice_Exercise.ipynb\" target=\"_parent\"><img src=\"https://colab.research.google.com/assets/colab-badge.svg\" alt=\"Open In Colab\"/></a>"
      ]
    },
    {
      "cell_type": "markdown",
      "metadata": {
        "id": "ndFfgi7ewjBm"
      },
      "source": [
        "<h1> ML.AI Week 1 Numpy Practice Notebook</h1>"
      ]
    },
    {
      "cell_type": "markdown",
      "metadata": {
        "id": "FLCCQQWewQMO"
      },
      "source": [
        "## Importing Libraries"
      ]
    },
    {
      "cell_type": "code",
      "execution_count": null,
      "metadata": {
        "id": "ipBx5KY2wWr3"
      },
      "outputs": [],
      "source": [
        "# Import NumPy\n",
        "import numpy as np"
      ]
    },
    {
      "cell_type": "markdown",
      "metadata": {
        "id": "i-M87Y3Ywgza"
      },
      "source": [
        "# Basics"
      ]
    },
    {
      "cell_type": "markdown",
      "metadata": {
        "id": "oO5gw_3awNAC"
      },
      "source": [
        "## Create NumPy Array"
      ]
    },
    {
      "cell_type": "code",
      "execution_count": null,
      "metadata": {
        "colab": {
          "base_uri": "https://localhost:8080/"
        },
        "id": "xCRUIOP8wywQ",
        "outputId": "df4fc839-abcd-417a-8f5b-04d7385f95ec"
      },
      "outputs": [
        {
          "name": "stdout",
          "output_type": "stream",
          "text": [
            "[0 1 2 3 4 5 6 7 8 9]\n"
          ]
        }
      ],
      "source": [
        "my_list = [0,1,2,3,4,5,6,7,8,9]\n",
        "\n",
        "# Create NumPy array from my_list\n",
        "nparr = np.array(my_list)\n",
        "print(nparr)"
      ]
    },
    {
      "cell_type": "code",
      "execution_count": null,
      "metadata": {
        "colab": {
          "base_uri": "https://localhost:8080/"
        },
        "id": "XyVPJpzyw35U",
        "outputId": "438187dd-e1fc-4e67-fb27-e5a11876f05e"
      },
      "outputs": [
        {
          "name": "stdout",
          "output_type": "stream",
          "text": [
            "[0 1 2 3 4 5 6 7 8 9]\n"
          ]
        }
      ],
      "source": [
        "# Create NumPy array with numbers from 0 to 9 using arange method\n",
        "nparr = np.arange(0, 10)\n",
        "print(nparr)"
      ]
    },
    {
      "cell_type": "markdown",
      "metadata": {
        "id": "x4GjKI9sw-rK"
      },
      "source": [
        "## Universal Functions (ufunc)\n",
        "\n",
        "Arithmetic operations we can perform with numpy arrays:\n",
        "\n",
        "https://docs.scipy.org/doc/scipy/reference/tutorial/basic.html\n",
        "\n",
        "https://numpy.org/doc/stable/reference/ufuncs.html"
      ]
    },
    {
      "cell_type": "code",
      "execution_count": null,
      "metadata": {
        "colab": {
          "base_uri": "https://localhost:8080/"
        },
        "id": "RH2l-nsTw_dd",
        "outputId": "b8aa91ba-7e29-4169-d8a9-9eac04452e18"
      },
      "outputs": [
        {
          "name": "stdout",
          "output_type": "stream",
          "text": [
            "[ 0  2  4  6  8 10 12 14 16 18]\n"
          ]
        }
      ],
      "source": [
        "# ADDING ARRAYS\n",
        "nparr_added = nparr + nparr\n",
        "print(nparr_added)"
      ]
    },
    {
      "cell_type": "code",
      "execution_count": null,
      "metadata": {
        "colab": {
          "base_uri": "https://localhost:8080/"
        },
        "id": "6M2qhDDOxCKR",
        "outputId": "11b77989-a175-4d74-abc6-94fda4678540"
      },
      "outputs": [
        {
          "name": "stdout",
          "output_type": "stream",
          "text": [
            "[0 0 0 0 0 0 0 0 0 0]\n"
          ]
        }
      ],
      "source": [
        "# SUBTRACTING ARRAYS\n",
        "nparr_sub= nparr - nparr\n",
        "print(nparr_sub)"
      ]
    },
    {
      "cell_type": "code",
      "execution_count": null,
      "metadata": {
        "colab": {
          "base_uri": "https://localhost:8080/"
        },
        "id": "6Q7ui5l5xFFd",
        "outputId": "bbc42a0b-38ab-4fc0-b9a9-17f938427c55"
      },
      "outputs": [
        {
          "name": "stdout",
          "output_type": "stream",
          "text": [
            "[ 0  1  4  9 16 25 36 49 64 81]\n",
            "[nan  1.  1.  1.  1.  1.  1.  1.  1.  1.]\n"
          ]
        },
        {
          "name": "stderr",
          "output_type": "stream",
          "text": [
            "<ipython-input-9-40008f680545>:5: RuntimeWarning: invalid value encountered in true_divide\n",
            "  nparr_div = nparr / nparr\n"
          ]
        }
      ],
      "source": [
        "# MULTIPLICATING OR DIVISION ARRAYS\n",
        "nparr_mult = nparr * nparr\n",
        "print(nparr_mult)\n",
        "# Note: division zero by zero yields no error, but nan (absence of an object, equal to null)\n",
        "nparr_div = nparr / nparr\n",
        "print(nparr_div)"
      ]
    },
    {
      "cell_type": "code",
      "execution_count": null,
      "metadata": {
        "id": "8y8KOYJgxHfw"
      },
      "outputs": [],
      "source": [
        "# MULTIPLY BY A SCALARS\n",
        "nparr_esc = nparr * 10\n",
        "print(nparr_esc)"
      ]
    },
    {
      "cell_type": "code",
      "execution_count": null,
      "metadata": {
        "colab": {
          "base_uri": "https://localhost:8080/",
          "height": 85
        },
        "id": "eFU9MjmsxOtS",
        "outputId": "16035967-661a-4315-e519-9d5300117656"
      },
      "outputs": [
        {
          "name": "stdout",
          "output_type": "stream",
          "text": [
            "[       inf 1.         0.5        0.33333333 0.25       0.2\n",
            " 0.16666667 0.14285714 0.125      0.11111111 0.1       ]\n"
          ]
        },
        {
          "name": "stderr",
          "output_type": "stream",
          "text": [
            "/usr/local/lib/python3.6/dist-packages/ipykernel_launcher.py:3: RuntimeWarning: divide by zero encountered in true_divide\n",
            "  This is separate from the ipykernel package so we can avoid doing imports until\n"
          ]
        }
      ],
      "source": [
        "# ONE DIVIDED BY ZERO\n",
        "# inf signifies infinity for one divided by zero at the very first element\n",
        "nparr_one_div = 1/nparr\n",
        "print(nparr_one_div)"
      ]
    },
    {
      "cell_type": "code",
      "execution_count": null,
      "metadata": {
        "colab": {
          "base_uri": "https://localhost:8080/",
          "height": 51
        },
        "id": "q01cuOPgxRGY",
        "outputId": "e52a5cb3-922c-4fa8-abbf-c892ad7636ac"
      },
      "outputs": [
        {
          "name": "stdout",
          "output_type": "stream",
          "text": [
            "[  0   1   4   9  16  25  36  49  64  81 100]\n",
            "[  0   1   4   9  16  25  36  49  64  81 100]\n"
          ]
        }
      ],
      "source": [
        "# EXPONENT - ARRAYS - Squaring everything - Two options\n",
        "np_arr_exp1 = nparr ** 2\n",
        "print(np_arr_exp1)\n",
        "np_arr_exp2 = np.square(nparr)\n",
        "print(np_arr_exp2)"
      ]
    },
    {
      "cell_type": "code",
      "execution_count": null,
      "metadata": {
        "colab": {
          "base_uri": "https://localhost:8080/",
          "height": 51
        },
        "id": "G6PuQ1CgxT4B",
        "outputId": "67bc753b-6938-4c95-d34b-b5a21133fbf9"
      },
      "outputs": [
        {
          "name": "stdout",
          "output_type": "stream",
          "text": [
            "[0.         1.         1.41421356 1.73205081 2.         2.23606798\n",
            " 2.44948974 2.64575131 2.82842712 3.         3.16227766]\n"
          ]
        }
      ],
      "source": [
        "# SQUARE ROOT\n",
        "nparr_sr = np.sqrt(nparr)\n",
        "print(nparr_sr)"
      ]
    },
    {
      "cell_type": "code",
      "execution_count": null,
      "metadata": {
        "colab": {
          "base_uri": "https://localhost:8080/",
          "height": 68
        },
        "id": "R_G7nQ9dxX3d",
        "outputId": "04cd11eb-50de-4a82-c7ff-191fbac5d86d"
      },
      "outputs": [
        {
          "name": "stdout",
          "output_type": "stream",
          "text": [
            "[1.00000000e+00 2.71828183e+00 7.38905610e+00 2.00855369e+01\n",
            " 5.45981500e+01 1.48413159e+02 4.03428793e+02 1.09663316e+03\n",
            " 2.98095799e+03 8.10308393e+03 2.20264658e+04]\n"
          ]
        }
      ],
      "source": [
        "# EXPONENTIAL WITH ARRAYS\n",
        "np_arr_exp3 = np.exp(nparr)\n",
        "print(np_arr_exp3)"
      ]
    },
    {
      "cell_type": "code",
      "execution_count": null,
      "metadata": {
        "colab": {
          "base_uri": "https://localhost:8080/",
          "height": 51
        },
        "id": "QD-uBWKPxZv4",
        "outputId": "cb8b53bb-ac51-4a5f-9f8b-8564e9ccea61"
      },
      "outputs": [
        {
          "name": "stdout",
          "output_type": "stream",
          "text": [
            "10\n",
            "0\n"
          ]
        }
      ],
      "source": [
        "# MAX & MIN\n",
        "nparr_max = np.max(nparr)\n",
        "print(nparr_max)\n",
        "nparr_min = np.min(nparr)\n",
        "print(nparr_min)"
      ]
    },
    {
      "cell_type": "code",
      "execution_count": null,
      "metadata": {
        "colab": {
          "base_uri": "https://localhost:8080/",
          "height": 51
        },
        "id": "TRsuqrGnxb7r",
        "outputId": "2e7c28ab-e8b0-4094-dce1-7264fe99f28a"
      },
      "outputs": [
        {
          "name": "stdout",
          "output_type": "stream",
          "text": [
            "[ 0.          0.84147098  0.90929743  0.14112001 -0.7568025  -0.95892427\n",
            " -0.2794155   0.6569866   0.98935825  0.41211849 -0.54402111]\n"
          ]
        }
      ],
      "source": [
        "# TRIGONOMETRIC FUNCTIONS - Passing every element into sine function\n",
        "nparr_sin = np.sin(nparr)\n",
        "print(nparr_sin)"
      ]
    },
    {
      "cell_type": "code",
      "execution_count": null,
      "metadata": {
        "colab": {
          "base_uri": "https://localhost:8080/",
          "height": 85
        },
        "id": "lUE7rfEfxeYH",
        "outputId": "7c965edb-ed25-4b76-ed03-05084945ce72"
      },
      "outputs": [
        {
          "name": "stdout",
          "output_type": "stream",
          "text": [
            "[      -inf 0.         0.69314718 1.09861229 1.38629436 1.60943791\n",
            " 1.79175947 1.94591015 2.07944154 2.19722458 2.30258509]\n"
          ]
        },
        {
          "name": "stderr",
          "output_type": "stream",
          "text": [
            "/usr/local/lib/python3.6/dist-packages/ipykernel_launcher.py:2: RuntimeWarning: divide by zero encountered in log\n",
            "  \n"
          ]
        }
      ],
      "source": [
        "# LOGARITHMIC - Note:  the very first one is minus infinity\n",
        "nparr_log = np.log(nparr)\n",
        "print(nparr_log)"
      ]
    },
    {
      "cell_type": "markdown",
      "metadata": {
        "id": "b3t7n_rExqYz"
      },
      "source": [
        "# NUMPY PRACTICE EXERCISES"
      ]
    },
    {
      "cell_type": "markdown",
      "metadata": {
        "id": "kM4gRRsvx25_"
      },
      "source": [
        "## 1 . Creates an array of the integers from 10 to 50"
      ]
    },
    {
      "cell_type": "code",
      "execution_count": 2,
      "metadata": {
        "colab": {
          "base_uri": "https://localhost:8080/"
        },
        "id": "0Svcsjnrx4xR",
        "outputId": "ccdbb9e5-38c1-4922-bcec-399ed4922449"
      },
      "outputs": [
        {
          "name": "stdout",
          "output_type": "stream",
          "text": [
            "[10 11 12 13 14 15 16 17 18 19 20 21 22 23 24 25 26 27 28 29 30 31 32 33\n",
            " 34 35 36 37 38 39 40 41 42 43 44 45 46 47 48 49 50]\n"
          ]
        }
      ],
      "source": [
        "import numpy as np\n",
        "nparr = np.arange(10, 51)\n",
        "print(nparr)"
      ]
    },
    {
      "cell_type": "markdown",
      "metadata": {
        "id": "waLqx2TbyAcb"
      },
      "source": [
        "## 2 . Create an array of the even integers from 10 to 50"
      ]
    },
    {
      "cell_type": "code",
      "execution_count": 3,
      "metadata": {
        "colab": {
          "base_uri": "https://localhost:8080/"
        },
        "id": "SMc68WdEx67L",
        "outputId": "c1aa595c-4612-4063-f2d7-40d0d55db99a"
      },
      "outputs": [
        {
          "name": "stdout",
          "output_type": "stream",
          "text": [
            "[10 12 14 16 18 20 22 24 26 28 30 32 34 36 38 40 42 44 46 48 50]\n"
          ]
        }
      ],
      "source": [
        "nparr = np.arange(10,51,2)\n",
        "print(nparr)"
      ]
    },
    {
      "cell_type": "markdown",
      "metadata": {
        "id": "aIzm88u1yGpE"
      },
      "source": [
        "\n",
        "\n",
        "## 3. Creates a 3x3 matrix with values ranging from 1 to 9"
      ]
    },
    {
      "cell_type": "code",
      "execution_count": 11,
      "metadata": {
        "colab": {
          "base_uri": "https://localhost:8080/"
        },
        "id": "EI9KtMn4yId-",
        "outputId": "f02a8add-7bc3-444b-f42e-52ae339e8626"
      },
      "outputs": [
        {
          "name": "stdout",
          "output_type": "stream",
          "text": [
            "[[1 2 3]\n",
            " [4 5 6]\n",
            " [7 8 9]]\n"
          ]
        }
      ],
      "source": [
        "import numpy as np\n",
        "nparr = np.arange(1,10)\n",
        "matrix = nparr.reshape(3,3)\n",
        "print(matrix)"
      ]
    },
    {
      "cell_type": "markdown",
      "metadata": {
        "id": "eOvyPzP7yNHs"
      },
      "source": [
        "## 4. Use NumPy to generate a random number between 0 and 1"
      ]
    },
    {
      "cell_type": "code",
      "execution_count": 14,
      "metadata": {
        "colab": {
          "base_uri": "https://localhost:8080/"
        },
        "id": "bEKJCls2yOaC",
        "outputId": "74e6ebf4-e98e-4fd4-c16d-8566f58c6790"
      },
      "outputs": [
        {
          "name": "stdout",
          "output_type": "stream",
          "text": [
            "0.08312773381184779\n"
          ]
        }
      ],
      "source": [
        "import numpy as np\n",
        "rand = np.random.random()\n",
        "print(rand)"
      ]
    },
    {
      "cell_type": "markdown",
      "metadata": {
        "id": "NCxHKGsIybmd"
      },
      "source": [
        "\n",
        "\n",
        "## 5. Use NumPy to generate 25 random numbers sampled from a standard normal distribution"
      ]
    },
    {
      "cell_type": "code",
      "execution_count": 19,
      "metadata": {
        "colab": {
          "base_uri": "https://localhost:8080/"
        },
        "id": "8uajaz4oyd01",
        "outputId": "fd2321b4-18ee-4603-ca00-2bf3ba159fdc"
      },
      "outputs": [
        {
          "name": "stdout",
          "output_type": "stream",
          "text": [
            "[ 0.02171885  0.5549032   0.56089311 -1.8578443  -0.42081674 -0.19292973\n",
            "  0.76820248  2.00985611  0.96890676 -1.40017824  0.88197671 -0.20302223\n",
            " -1.79608497  1.38637523 -1.16113239 -1.43761289  0.08338828 -0.19305368\n",
            " -1.62054563 -1.03443633 -1.58826255 -1.92059672  0.90474933  0.36703705\n",
            "  0.43544321]\n"
          ]
        }
      ],
      "source": [
        "import numpy as np\n",
        "rand = np.random.randn(25)\n",
        "print(rand)"
      ]
    },
    {
      "cell_type": "markdown",
      "metadata": {
        "id": "RddxbwyayiVs"
      },
      "source": [
        "## 6. Create a matrix of 100 items spaced equally at 0.01 steps ranged fro 0.01 to 1"
      ]
    },
    {
      "cell_type": "code",
      "execution_count": 21,
      "metadata": {
        "colab": {
          "base_uri": "https://localhost:8080/"
        },
        "id": "FzOdZXwRyjsO",
        "outputId": "8971216b-dba3-4eb3-f21a-b0637bb49b19"
      },
      "outputs": [
        {
          "name": "stdout",
          "output_type": "stream",
          "text": [
            "[[0.01 0.02 0.03 0.04 0.05 0.06 0.07 0.08 0.09 0.1 ]\n",
            " [0.11 0.12 0.13 0.14 0.15 0.16 0.17 0.18 0.19 0.2 ]\n",
            " [0.21 0.22 0.23 0.24 0.25 0.26 0.27 0.28 0.29 0.3 ]\n",
            " [0.31 0.32 0.33 0.34 0.35 0.36 0.37 0.38 0.39 0.4 ]\n",
            " [0.41 0.42 0.43 0.44 0.45 0.46 0.47 0.48 0.49 0.5 ]\n",
            " [0.51 0.52 0.53 0.54 0.55 0.56 0.57 0.58 0.59 0.6 ]\n",
            " [0.61 0.62 0.63 0.64 0.65 0.66 0.67 0.68 0.69 0.7 ]\n",
            " [0.71 0.72 0.73 0.74 0.75 0.76 0.77 0.78 0.79 0.8 ]\n",
            " [0.81 0.82 0.83 0.84 0.85 0.86 0.87 0.88 0.89 0.9 ]\n",
            " [0.91 0.92 0.93 0.94 0.95 0.96 0.97 0.98 0.99 1.  ]]\n"
          ]
        }
      ],
      "source": [
        "import numpy as np\n",
        "matrix = np.linspace(0.01, 1, 100)\n",
        "matrix = matrix.reshape(10,10)\n",
        "print(matrix)"
      ]
    },
    {
      "cell_type": "code",
      "execution_count": null,
      "metadata": {
        "colab": {
          "base_uri": "https://localhost:8080/",
          "height": 187
        },
        "id": "yJxrHMO0ylZj",
        "outputId": "c2a19581-17c6-43ca-c47c-03598553da5e"
      },
      "outputs": [
        {
          "data": {
            "text/plain": [
              "array([[0.01, 0.02, 0.03, 0.04, 0.05, 0.06, 0.07, 0.08, 0.09, 0.1 ],\n",
              "       [0.11, 0.12, 0.13, 0.14, 0.15, 0.16, 0.17, 0.18, 0.19, 0.2 ],\n",
              "       [0.21, 0.22, 0.23, 0.24, 0.25, 0.26, 0.27, 0.28, 0.29, 0.3 ],\n",
              "       [0.31, 0.32, 0.33, 0.34, 0.35, 0.36, 0.37, 0.38, 0.39, 0.4 ],\n",
              "       [0.41, 0.42, 0.43, 0.44, 0.45, 0.46, 0.47, 0.48, 0.49, 0.5 ],\n",
              "       [0.51, 0.52, 0.53, 0.54, 0.55, 0.56, 0.57, 0.58, 0.59, 0.6 ],\n",
              "       [0.61, 0.62, 0.63, 0.64, 0.65, 0.66, 0.67, 0.68, 0.69, 0.7 ],\n",
              "       [0.71, 0.72, 0.73, 0.74, 0.75, 0.76, 0.77, 0.78, 0.79, 0.8 ],\n",
              "       [0.81, 0.82, 0.83, 0.84, 0.85, 0.86, 0.87, 0.88, 0.89, 0.9 ],\n",
              "       [0.91, 0.92, 0.93, 0.94, 0.95, 0.96, 0.97, 0.98, 0.99, 1.  ]])"
            ]
          },
          "execution_count": 23,
          "metadata": {
            "tags": []
          },
          "output_type": "execute_result"
        }
      ],
      "source": [
        "# Returning the exact same result as above\n"
      ]
    },
    {
      "cell_type": "markdown",
      "metadata": {
        "id": "tQVoOsaAyp1X"
      },
      "source": [
        "## 7. Create an array of 20 linearly spaced points between 0 and 1"
      ]
    },
    {
      "cell_type": "code",
      "execution_count": 23,
      "metadata": {
        "colab": {
          "base_uri": "https://localhost:8080/"
        },
        "id": "4MtcWJA4yrGl",
        "outputId": "20ab7202-1620-480c-ffac-61babe75f76b"
      },
      "outputs": [
        {
          "name": "stdout",
          "output_type": "stream",
          "text": [
            "[0.         0.05263158 0.10526316 0.15789474 0.21052632 0.26315789\n",
            " 0.31578947 0.36842105 0.42105263 0.47368421 0.52631579 0.57894737\n",
            " 0.63157895 0.68421053 0.73684211 0.78947368 0.84210526 0.89473684\n",
            " 0.94736842 1.        ]\n"
          ]
        }
      ],
      "source": [
        "import numpy as np\n",
        "matrix = np.linspace(0, 1, 20)\n",
        "print(matrix)"
      ]
    },
    {
      "cell_type": "markdown",
      "metadata": {
        "id": "ROMflFPMyxX8"
      },
      "source": [
        "# INDEXING & SLICING NOTATION in PYTHON\n",
        "\n",
        "## What does indexing mean in Python?\n",
        "An index refers to a position within an ordered list.\n",
        "\n",
        "## And what about Slicing?\n",
        "Slicing in python means taking elements from one given index to another given index. We pass slice instead of an index like this: [[start:end]]. We can also define the step, like this: [[start:end:step]].\n"
      ]
    },
    {
      "cell_type": "markdown",
      "metadata": {
        "id": "GI3tgye0y4Q_"
      },
      "source": [
        "\n",
        "## Two-Dimensional Array: arr_2_d\n",
        "\n",
        "There are 2 general formats for GRABBING ELEMENTS from a 2-d array (matrix):\n",
        "\n",
        "1. DOUBLE BRACKET FORMAT   \n",
        "\n",
        "      mat[row][column]\n",
        "\n",
        "2. SINGLE BRACKET FORMAT   \n",
        "\n",
        "      mat[row,column]\n",
        "      \n",
        "      w/ comma, this is least prone to error!"
      ]
    },
    {
      "cell_type": "markdown",
      "metadata": {
        "id": "uAaaiIVIzGNW"
      },
      "source": [
        "## Indexing & Slicing Notation (mnemonic):\n",
        "\n",
        "[ row : Column ]\n",
        "\n",
        "### Indexing:\n",
        "\n",
        "[ **Grab just the** ] , [ **and just the** ]\n",
        "\n",
        "### Slicing: (bni)\n",
        "\n",
        "[**Grab all from the : up to the** ] , [ **and all from the : up to the** ]\n",
        "\n",
        "[ **but not including (bni)** ]: [ **but not including (bni)**]"
      ]
    },
    {
      "cell_type": "markdown",
      "metadata": {
        "id": "erYYymH9zfFK"
      },
      "source": [
        "PRACTICING EXERCISES:\n",
        "\n",
        "(for Indexing & Slicing in Python & NumPy)"
      ]
    },
    {
      "cell_type": "code",
      "execution_count": 28,
      "metadata": {
        "colab": {
          "base_uri": "https://localhost:8080/"
        },
        "id": "93KjIoWVysto",
        "outputId": "d137cc20-57a3-47f7-8fa2-8303c1f31262"
      },
      "outputs": [
        {
          "name": "stdout",
          "output_type": "stream",
          "text": [
            "[[ 1  2  3  4  5]\n",
            " [ 6  7  8  9 10]\n",
            " [11 12 13 14 15]\n",
            " [16 17 18 19 20]\n",
            " [21 22 23 24 25]]\n"
          ]
        }
      ],
      "source": [
        "# Use this 2-Dimensional Array for this exercises\n",
        "import numpy as np\n",
        "arr_2d = np.arange(1,26).reshape(5,5)\n",
        "print(arr_2d)"
      ]
    },
    {
      "cell_type": "markdown",
      "metadata": {
        "id": "0SIFJUaTztCI"
      },
      "source": [
        "### 8. Grab element 20  of the arr_2_d array"
      ]
    },
    {
      "cell_type": "code",
      "execution_count": 29,
      "metadata": {
        "colab": {
          "base_uri": "https://localhost:8080/"
        },
        "id": "VGcspB0SztmQ",
        "outputId": "eef58a46-c308-4d24-fffa-58a4c9051b80"
      },
      "outputs": [
        {
          "name": "stdout",
          "output_type": "stream",
          "text": [
            "20\n"
          ]
        }
      ],
      "source": [
        "\n",
        "# That is to say:\n",
        "# for row: **Grab just the** forth row,\n",
        "#          it rescues just one element in the forth row:), and\n",
        "# for column: **and just the** fifth column.\n",
        "#             It rescues just one element in fifth column, again:)\n",
        "print(arr_2d[3][4])"
      ]
    },
    {
      "cell_type": "markdown",
      "metadata": {
        "id": "mU7f5am2z0jZ"
      },
      "source": [
        "### 9. Grab items 2, 7, 12 of the arr_2_d array"
      ]
    },
    {
      "cell_type": "code",
      "execution_count": 33,
      "metadata": {
        "colab": {
          "base_uri": "https://localhost:8080/"
        },
        "id": "g3QBOE6vz2uR",
        "outputId": "9f83235a-0aa1-47e1-bd2e-92a8cc1ddcb5"
      },
      "outputs": [
        {
          "name": "stdout",
          "output_type": "stream",
          "text": [
            "[[ 2]\n",
            " [ 7]\n",
            " [12]]\n"
          ]
        }
      ],
      "source": [
        "\n",
        "# That is to say:\n",
        "#\n",
        "# for row: **Grab all from the** begining,\n",
        "#          **up to the** forth row (but not including),\n",
        "#          it rescues 3 rows in a row,\n",
        "#\n",
        "# for column: **and all from the** second\n",
        "#             **up to the** 3ª Column (bni).\n",
        "#             It rescues just one column, the second one:)\n",
        "array = arr_2d[[0, 1, 2], [1, 1, 1]].reshape(-1, 1)\n",
        "print(array)"
      ]
    },
    {
      "cell_type": "markdown",
      "metadata": {
        "id": "AtAhD17G0nH9"
      },
      "source": [
        "### 10. Grab the last row of the arr_2_d array"
      ]
    },
    {
      "cell_type": "code",
      "execution_count": 34,
      "metadata": {
        "colab": {
          "base_uri": "https://localhost:8080/"
        },
        "id": "yHEr1Vthz5Fh",
        "outputId": "2001f092-4a8c-4ddd-a930-1dcb3470ac0e"
      },
      "outputs": [
        {
          "name": "stdout",
          "output_type": "stream",
          "text": [
            "[21 22 23 24 25]\n"
          ]
        }
      ],
      "source": [
        "\n",
        "# That is to say:\n",
        "#\n",
        "# for row: **Grab just the** fifth row,\n",
        "#          it rescues just the last row:),\n",
        "#\n",
        "# for column: **and all from the** beginning **up to the** end of\n",
        "#             the columns(:). It rescues all the columns:)\n",
        "lastRow = arr_2d[-1]\n",
        "print(lastRow)"
      ]
    },
    {
      "cell_type": "markdown",
      "metadata": {
        "id": "V4QJvxly01mZ"
      },
      "source": [
        "### 11. Get the sum of all the values, column values and row values in arr_2_d array"
      ]
    },
    {
      "cell_type": "code",
      "execution_count": 35,
      "metadata": {
        "colab": {
          "base_uri": "https://localhost:8080/"
        },
        "id": "r4C7rdUn02Lx",
        "outputId": "a8e4ccd3-6bbc-42be-85bb-35461abc47ad"
      },
      "outputs": [
        {
          "name": "stdout",
          "output_type": "stream",
          "text": [
            "325\n"
          ]
        }
      ],
      "source": [
        "# Using NumPy and pass array as parameter\n",
        "\n",
        "# OR\n",
        "# Use the method of the object array itself directly\n",
        "totsum = np.sum(arr_2d)\n",
        "print(totsum)"
      ]
    },
    {
      "cell_type": "code",
      "execution_count": 38,
      "metadata": {
        "colab": {
          "base_uri": "https://localhost:8080/"
        },
        "id": "j_UbfWuO038O",
        "outputId": "8e002469-8783-4f49-9d3b-a6465a2e60ba"
      },
      "outputs": [
        {
          "name": "stdout",
          "output_type": "stream",
          "text": [
            "[55 60 65 70 75]\n",
            "[ 15  40  65  90 115]\n"
          ]
        }
      ],
      "source": [
        "\n",
        "# axis=0 -> row -> so the result is placed in a row\n",
        "# (then it is a columns' sum)\n",
        "\n",
        "# axis=1 -> columns -> so the result is placed in a column\n",
        "# (then it is a row's sum:)\n",
        "column_sums = np.sum(arr_2d, axis=0)\n",
        "row_sums = np.sum(arr_2d, axis=1)\n",
        "print(column_sums)\n",
        "print(row_sums)\n",
        "\n",
        "# axis=0 -> row -> so the result is placed in a row\n",
        "# (then it is a columns' sum)\n",
        "\n",
        "# axis=1 -> columns -> so the result is placed in a column\n",
        "# (then it is a row's sum:)"
      ]
    },
    {
      "cell_type": "markdown",
      "metadata": {
        "id": "rfxf2izz1FGw"
      },
      "source": [
        "### 12. Get the standard diviation of the values in arr_2_d array"
      ]
    },
    {
      "cell_type": "code",
      "execution_count": 39,
      "metadata": {
        "colab": {
          "base_uri": "https://localhost:8080/"
        },
        "id": "om6NxGEH1F8k",
        "outputId": "a7447e71-64ec-45b8-b201-381ff872449f"
      },
      "outputs": [
        {
          "name": "stdout",
          "output_type": "stream",
          "text": [
            "7.211102550927978\n"
          ]
        }
      ],
      "source": [
        "stddev = np.std(arr_2d)\n",
        "print(stddev)"
      ]
    },
    {
      "cell_type": "code",
      "execution_count": 40,
      "metadata": {
        "colab": {
          "base_uri": "https://localhost:8080/"
        },
        "id": "bnICQsGXYbm7",
        "outputId": "6d4ac562-818c-40be-b358-74e57de364d7"
      },
      "outputs": [
        {
          "name": "stdout",
          "output_type": "stream",
          "text": [
            "7.211102550927978\n"
          ]
        }
      ],
      "source": [
        "# Returning the exact same result as above\n",
        "print(stddev)"
      ]
    },
    {
      "cell_type": "markdown",
      "metadata": {
        "id": "uUFmB7et1ezJ"
      },
      "source": [
        "# CONDITIONAL SELECTION"
      ]
    },
    {
      "cell_type": "markdown",
      "metadata": {
        "id": "-W_rKpYA1kJr"
      },
      "source": [
        "### SUMMARY\n",
        "\n",
        "1. Get an array and perform a comparison operator on it; it will return a boolean array;\n",
        "2. Use that boolean array to index a conditional selection."
      ]
    },
    {
      "cell_type": "code",
      "execution_count": null,
      "metadata": {
        "colab": {
          "base_uri": "https://localhost:8080/",
          "height": 34
        },
        "id": "MvAI1M7F1kpU",
        "outputId": "79376cf4-777d-491e-fe60-fb3127dd27b6"
      },
      "outputs": [
        {
          "name": "stdout",
          "output_type": "stream",
          "text": [
            "[ 1  2  3  4  5  6  7  8  9 10]\n"
          ]
        }
      ],
      "source": [
        "# Given that Array to test Conditional Selection\n",
        "arr = np.arange(1,11)\n",
        "print(arr)"
      ]
    },
    {
      "cell_type": "code",
      "execution_count": null,
      "metadata": {
        "colab": {
          "base_uri": "https://localhost:8080/",
          "height": 34
        },
        "id": "qmfpQJae1oLy",
        "outputId": "9d7a673b-612c-4603-d8bb-0fbf4cbd0b2a"
      },
      "outputs": [
        {
          "name": "stdout",
          "output_type": "stream",
          "text": [
            "[ True  True  True  True False False False False False False]\n"
          ]
        }
      ],
      "source": [
        "# Perform the comparison and grab the result (booleans array)\n",
        "bool_arr = arr < 5\n",
        "print(bool_arr)"
      ]
    },
    {
      "cell_type": "code",
      "execution_count": null,
      "metadata": {
        "colab": {
          "base_uri": "https://localhost:8080/",
          "height": 34
        },
        "id": "orkXjA9z1qoh",
        "outputId": "e3d6bace-bf15-4c0d-cae3-8afc5d019218"
      },
      "outputs": [
        {
          "name": "stdout",
          "output_type": "stream",
          "text": [
            "[1 2 3 4]\n"
          ]
        }
      ],
      "source": [
        "# I can now use that booleans array to actualy index or **conditionally select** elements\n",
        "#  from the original array (arr); then only return instances where boolean array is true.\n",
        "result_arr = arr[bool_arr]\n",
        "print(result_arr)"
      ]
    },
    {
      "cell_type": "markdown",
      "metadata": {
        "id": "ZgZP1kSz1vOa"
      },
      "source": [
        "### In Just One line of code. Just Awesome!"
      ]
    },
    {
      "cell_type": "code",
      "execution_count": null,
      "metadata": {
        "colab": {
          "base_uri": "https://localhost:8080/",
          "height": 34
        },
        "id": "-4Qg1Wbq1vlC",
        "outputId": "dc681319-b210-4d0a-999a-abcbae735470"
      },
      "outputs": [
        {
          "name": "stdout",
          "output_type": "stream",
          "text": [
            "[1 2 3 4]\n"
          ]
        }
      ],
      "source": [
        "# Returning the same result as above\n",
        "result_arr = arr[arr<5]\n",
        "print(result_arr)"
      ]
    },
    {
      "cell_type": "markdown",
      "metadata": {
        "id": "cTfCIaC5177t"
      },
      "source": [
        "### Notes:\n",
        "\n",
        "Getting an array and using a comparison operator on it will actually return a boolean array (meaning an array of all boolean values).\n",
        "\n",
        "Then we can use that boolean array to actually index or conditionally select elements from the original array where this happened to true.\n",
        "\n",
        "So only return instances where that boolean array is true, and more commonly, instead of sorting of splitting this up into 2 steps, we would actually do this all in one step (see code above).\n",
        "\n",
        "We would say, an array, and in brackets, instead of the array, we would pass in the conditional statement (arr[arr<5]), and that would return the same answer as the 2-step method and this is the sort of syntax notation we're going to be using all the time as far as conditional selection is an issue.\n",
        "\n",
        "It's kind of weird to pass the variable itself as a parameter to the indexer brackets, but that's how it works!\n",
        "\n",
        "THIS IS THE SORT OF SYNTAX NOTATION YOU WOULD GET USED SPECIALLY WHEN WE MOVE ON TO PANDAS!"
      ]
    },
    {
      "cell_type": "markdown",
      "metadata": {
        "id": "9M5JG6S1ZL0e"
      },
      "source": [
        "## Advanced Questions"
      ]
    },
    {
      "cell_type": "markdown",
      "metadata": {
        "id": "11amIBueZOZY"
      },
      "source": [
        "### 13. Declare a 8x8 matrix and fill it with a checkerboard (or chess) pattern."
      ]
    },
    {
      "cell_type": "code",
      "execution_count": 41,
      "metadata": {
        "colab": {
          "base_uri": "https://localhost:8080/"
        },
        "id": "LjR0lnK_ZNXr",
        "outputId": "f96668d1-bd13-478f-fdd3-c6c6a8b3273b"
      },
      "outputs": [
        {
          "name": "stdout",
          "output_type": "stream",
          "text": [
            "[[0 1 0 1 0 1 0 1]\n",
            " [1 0 1 0 1 0 1 0]\n",
            " [0 1 0 1 0 1 0 1]\n",
            " [1 0 1 0 1 0 1 0]\n",
            " [0 1 0 1 0 1 0 1]\n",
            " [1 0 1 0 1 0 1 0]\n",
            " [0 1 0 1 0 1 0 1]\n",
            " [1 0 1 0 1 0 1 0]]\n"
          ]
        }
      ],
      "source": [
        "checkerboard = np.indices((8, 8)).sum(axis=0) % 2\n",
        "print(checkerboard)"
      ]
    },
    {
      "cell_type": "markdown",
      "metadata": {
        "id": "tmNGX1c6ZRxx"
      },
      "source": [
        "### 14. Declare a 10x10 array with random values and find the minimum and maximum values."
      ]
    },
    {
      "cell_type": "code",
      "execution_count": 42,
      "metadata": {
        "colab": {
          "base_uri": "https://localhost:8080/"
        },
        "id": "Fx9enDeLZXYl",
        "outputId": "2181480e-fecf-4af3-d175-e765d840e1ad"
      },
      "outputs": [
        {
          "name": "stdout",
          "output_type": "stream",
          "text": [
            "[[7.83016442e-03 3.81130447e-01 6.94398282e-01 6.73724175e-01\n",
            "  7.40442721e-01 7.51436843e-01 2.14567873e-01 2.32119204e-01\n",
            "  1.57374103e-01 1.93300071e-01]\n",
            " [8.56195127e-01 6.33417138e-01 5.74837574e-01 2.60951977e-01\n",
            "  5.27165455e-01 4.59525824e-02 3.68598210e-01 8.61416105e-01\n",
            "  7.40053654e-01 3.55475603e-01]\n",
            " [1.45206893e-01 1.36162648e-01 6.17924734e-01 7.58899655e-01\n",
            "  7.11747893e-01 4.22405511e-01 2.47761190e-01 1.51543279e-01\n",
            "  4.06024889e-01 6.53395499e-02]\n",
            " [9.06906012e-01 4.27508665e-01 6.04715833e-01 9.09654588e-01\n",
            "  9.47888620e-01 5.70266382e-01 2.63958043e-01 1.75019100e-01\n",
            "  4.44088760e-01 9.04135410e-01]\n",
            " [7.35511972e-01 4.39841793e-01 2.85341231e-01 1.62224342e-01\n",
            "  5.82164541e-01 7.26374728e-01 1.70149704e-01 1.08547755e-01\n",
            "  5.72990926e-01 8.19859145e-01]\n",
            " [3.30725157e-01 7.88093435e-01 4.73391316e-01 3.24515167e-01\n",
            "  3.09935864e-01 6.93322547e-01 6.97757243e-01 5.80759687e-01\n",
            "  4.88865996e-01 9.68504843e-01]\n",
            " [6.35002601e-01 4.19201509e-02 9.20198467e-01 3.77722413e-01\n",
            "  6.57682241e-01 1.67955860e-01 7.39138195e-01 7.24238724e-01\n",
            "  3.65236285e-01 8.17885752e-01]\n",
            " [1.27231806e-01 8.66990844e-01 1.78757709e-01 6.62427186e-01\n",
            "  5.19717332e-01 4.77617390e-01 8.38941202e-01 9.01236332e-01\n",
            "  9.55488981e-04 3.16622334e-01]\n",
            " [8.33813736e-01 1.15258577e-01 6.63830280e-01 3.17019361e-01\n",
            "  6.90879270e-01 3.65143732e-01 6.94883810e-01 4.38403284e-01\n",
            "  3.05034623e-01 6.35915414e-01]\n",
            " [8.97386524e-03 1.70934971e-01 8.66747062e-01 8.98843796e-02\n",
            "  9.60626760e-01 5.58735681e-01 8.97822945e-01 9.01921720e-01\n",
            "  4.87285313e-01 4.95715962e-01]]\n",
            "0.0009554889806241418\n",
            "0.9685048434840283\n"
          ]
        }
      ],
      "source": [
        "random_array = np.random.rand(10, 10)\n",
        "min_value = np.min(random_array)\n",
        "max_value = np.max(random_array)\n",
        "print(random_array)\n",
        "print(min_value)\n",
        "print(max_value)"
      ]
    },
    {
      "cell_type": "markdown",
      "metadata": {
        "id": "4kHMCyp0ZZAJ"
      },
      "source": [
        "### 15. Create a random 10x2 matrix. Considering each pair represents an (x,y) co-ordinate in 2-D, obtain a matrix which contains (r,theta) in polar co-ordinate system.\n",
        "\n"
      ]
    },
    {
      "cell_type": "code",
      "execution_count": 43,
      "metadata": {
        "colab": {
          "base_uri": "https://localhost:8080/"
        },
        "id": "KjuZwDO_ZaEU",
        "outputId": "706e6595-0262-4113-8a24-5191409a9384"
      },
      "outputs": [
        {
          "name": "stdout",
          "output_type": "stream",
          "text": [
            "[[0.94033978 1.37914523]\n",
            " [0.79480758 0.82477165]\n",
            " [0.23905464 1.13864459]\n",
            " [0.57223215 0.73079172]\n",
            " [0.91298477 1.41302254]\n",
            " [0.45387032 1.29659894]\n",
            " [1.02231671 0.27873005]\n",
            " [0.35763332 0.98878663]\n",
            " [0.74870257 0.9976203 ]\n",
            " [0.93407089 1.41052595]]\n"
          ]
        }
      ],
      "source": [
        "cartesian_coordinates = np.random.rand(10, 2)\n",
        "x = cartesian_coordinates[:, 0]\n",
        "y = cartesian_coordinates[:, 1]\n",
        "r = np.sqrt(x**2 + y**2)\n",
        "theta = np.arctan2(y, x)\n",
        "polar_coordinates = np.column_stack((r, theta))\n",
        "print(polar_coordinates)"
      ]
    },
    {
      "cell_type": "markdown",
      "metadata": {
        "id": "D9zS4ibLZj56"
      },
      "source": [
        "### 16. Multiply a 5x3 matrix by a 3x2 matrix (real matrix product)"
      ]
    },
    {
      "cell_type": "code",
      "execution_count": 44,
      "metadata": {
        "colab": {
          "base_uri": "https://localhost:8080/"
        },
        "id": "YGprtzjBZmf0",
        "outputId": "8a88a92e-4e44-44b3-dd04-0d8b676cbf2e"
      },
      "outputs": [
        {
          "name": "stdout",
          "output_type": "stream",
          "text": [
            "[[1.22096429 1.31668062]\n",
            " [0.80535691 0.87626444]\n",
            " [1.06731758 1.20343689]\n",
            " [1.419169   1.5318183 ]\n",
            " [0.5056587  0.66702582]]\n"
          ]
        }
      ],
      "source": [
        "matrix_a = np.random.rand(5, 3)\n",
        "matrix_b = np.random.rand(3, 2)\n",
        "matrix_product = np.dot(matrix_a, matrix_b)\n",
        "print(matrix_product)"
      ]
    },
    {
      "cell_type": "markdown",
      "metadata": {
        "id": "aQF05wGvZv0I"
      },
      "source": [
        "## Broadcasting"
      ]
    },
    {
      "cell_type": "markdown",
      "metadata": {
        "id": "aGfbP1-oZqzq"
      },
      "source": [
        "Numpy use a powerful idea called broadcasting. The best thing is that it is also simple to use. Example, we will execute the following in the cell below.\n",
        "```\n",
        "x = np.arange(4)\n",
        "print(x)\n",
        "y = x + 3\n",
        "print(y)\n",
        "```\n",
        "Did you notice how 3 got added to every element of x! This is refered to as broadcasting. The concept extends when you wish to add a vector to every row (or column) of a matrix."
      ]
    },
    {
      "cell_type": "code",
      "execution_count": null,
      "metadata": {
        "id": "ZeC8lOWsZrI7"
      },
      "outputs": [],
      "source": [
        "x = np.arange(4)\n",
        "print(x)\n",
        "y = x + 3\n",
        "print(y)"
      ]
    },
    {
      "cell_type": "markdown",
      "metadata": {
        "id": "em_C30voZ7H0"
      },
      "source": [
        "Can we demonstrate a computational time benefit of broadcasting? For this we will need to measure time. No worries, let's welcome the timeit package."
      ]
    },
    {
      "cell_type": "code",
      "execution_count": 45,
      "metadata": {
        "colab": {
          "base_uri": "https://localhost:8080/"
        },
        "id": "yG3VVQ2VZ7cQ",
        "outputId": "e5039ed8-29dc-463c-dd64-c94edd4f8e6e"
      },
      "outputs": [
        {
          "name": "stdout",
          "output_type": "stream",
          "text": [
            "Time taken: 1.6072500011432566e-07\n"
          ]
        }
      ],
      "source": [
        "# importing the required module\n",
        "import timeit\n",
        "\n",
        "# code snippet to be executed only once\n",
        "test_setup = \"import numpy as np\"\n",
        "\n",
        "# code snippet to be executed only once\n",
        "test_code_1 = '''\n",
        "def example_function():\n",
        "    return np.arange(1000)\n",
        "'''\n",
        "num_runs = 1000\n",
        "time_elapsed = timeit.timeit(setup=test_setup, stmt = test_code_1, number=num_runs)\n",
        "print('Time taken: ' + str(time_elapsed/num_runs))"
      ]
    },
    {
      "cell_type": "markdown",
      "metadata": {
        "id": "CZDIakVraF0R"
      },
      "source": [
        "A bottlenecks in code is loops, this holds especially for python code. Compared to languages like C/C++ , Python loops are relatively slower. One reason for this is the dynamically typed nature of Python.\n",
        "\n",
        "Python interpreter first goes line-by-line through the code, compiles the code into bytecode, which is then executed to run the program. Let's consider the code contains a section where it has to loop over a list. Being dynamically typed, Python has no idea what type of objects are present in the list (whether it's an integer, a string or a float). Further, this information is basically stored in every object itself, and Python can not know this in advance before actually going through the list. Hence, at each iteration python has to perform a bunch of checks every iteration like determining the type of variable, resolving it's scope, checking for any invalid operations etc.\n",
        "\n",
        "Contrasting this with C, arrays are allowed to be consisting of only one data type, which the compiler knows well ahead of time. This opens up possibility of many optimizations which are not possible in Python. For this reason, loops in python are often much slower than in C, and nested loops is where things can really get slow."
      ]
    },
    {
      "cell_type": "markdown",
      "metadata": {
        "id": "iQMahDMIaQgF"
      },
      "source": [
        "### 17. In the below cell, define two random vectors x and y, each of size (1000x1). Do an elementwise multiplication of these vectors to get a new vector z. Try two approaches for this: (a) writing a function which uses a loop, (b) writing a function which the \"star\" numpy operator. Print the time for approach (a) and (b)."
      ]
    },
    {
      "cell_type": "code",
      "execution_count": 1,
      "metadata": {
        "colab": {
          "base_uri": "https://localhost:8080/"
        },
        "id": "MKbaayVzaE8x",
        "outputId": "9de11752-88b3-4ef9-d35c-906fe79fcfd7"
      },
      "outputs": [
        {
          "name": "stdout",
          "output_type": "stream",
          "text": [
            "approach (a): 0.003258228302001953\n",
            "approach (b): 0.00012826919555664062\n"
          ]
        }
      ],
      "source": [
        "#Approach A\n",
        "import numpy as np\n",
        "import time\n",
        "\n",
        "x = np.random.rand(1000, 1)\n",
        "y = np.random.rand(1000, 1)\n",
        "\n",
        "start_time = time.time()\n",
        "z_loop = np.zeros_like(x)\n",
        "for i in range(len(x)):\n",
        "    z_loop[i] = x[i] * y[i]\n",
        "end_time = time.time()\n",
        "time_loop = end_time - start_time\n",
        "\n",
        "print(\"approach (a):\", time_loop)\n",
        "#Approach B\n",
        "start_time = time.time()\n",
        "z_numpy = x * y\n",
        "end_time = time.time()\n",
        "time_numpy = end_time - start_time\n",
        "print(\"approach (b):\", time_numpy)"
      ]
    },
    {
      "cell_type": "markdown",
      "metadata": {
        "id": "4-lwm_mrag6f"
      },
      "source": [
        "# Bonus Question"
      ]
    },
    {
      "cell_type": "markdown",
      "metadata": {
        "id": "LtYkO8mSaSr2"
      },
      "source": [
        "### 18. Create a 2-D grid between (-10,10) in x-axis and (-10,10) in y-axis, with step size of .01. Generate a 2-D gaussian function on this grid, with mean = (0,0), and co-variance being an identity matrix. Plot the 2-D Gaussian using plot3D() function."
      ]
    },
    {
      "cell_type": "code",
      "execution_count": 3,
      "metadata": {
        "colab": {
          "base_uri": "https://localhost:8080/",
          "height": 438
        },
        "id": "i4p24HCMafpd",
        "outputId": "afb5fc5f-8a11-43c9-c411-63943cfd8f91"
      },
      "outputs": [
        {
          "data": {
            "image/png": "[encoded data removed]",
            "text/plain": [
              "<Figure size 640x480 with 1 Axes>"
            ]
          },
          "metadata": {},
          "output_type": "display_data"
        }
      ],
      "source": [
        "#took help from google !\n",
        "import numpy as np\n",
        "import matplotlib.pyplot as plt\n",
        "from mpl_toolkits.mplot3d import Axes3D\n",
        "\n",
        "# Create 2-D grid with reduced resolution\n",
        "x = np.arange(-10, 10, 0.1)\n",
        "y = np.arange(-10, 10, 0.1)\n",
        "X, Y = np.meshgrid(x, y)\n",
        "\n",
        "# Generate 2-D Gaussian function\n",
        "mean = np.array([0, 0])\n",
        "covariance = np.eye(2)  # Identity matrix\n",
        "gaussian = np.exp(-0.5 * np.sum((np.vstack([X.ravel(), Y.ravel()]).T - mean) @ np.linalg.inv(covariance) * (np.vstack([X.ravel(), Y.ravel()]).T - mean), axis=1))\n",
        "gaussian = gaussian.reshape(X.shape)\n",
        "\n",
        "# Plot the 2-D Gaussian\n",
        "fig = plt.figure()\n",
        "ax = fig.add_subplot(111, projection='3d')\n",
        "ax.plot_surface(X, Y, gaussian, cmap='viridis')\n",
        "ax.set_xlabel('X axis')\n",
        "ax.set_ylabel('Y axis')\n",
        "ax.set_zlabel('Z axis')\n",
        "ax.set_title('2-D Gaussian')\n",
        "plt.show()"
      ]
    }
  ],
  "metadata": {
    "colab": {
      "include_colab_link": true,
      "provenance": []
    },
    "kernelspec": {
      "display_name": "Python 3",
      "name": "python3"
    }
  },
  "nbformat": 4,
  "nbformat_minor": 0
}
